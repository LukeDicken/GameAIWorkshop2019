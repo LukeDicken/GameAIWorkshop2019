{
 "cells": [
  {
   "cell_type": "code",
   "execution_count": 16,
   "metadata": {},
   "outputs": [],
   "source": [
    "import sqlite3 as sql\n",
    "import pandas as pd"
   ]
  },
  {
   "cell_type": "code",
   "execution_count": 17,
   "metadata": {},
   "outputs": [
    {
     "name": "stdout",
     "output_type": "stream",
     "text": [
      "[('CREATE TABLE sessions (statTime timestamp, sessionStartTime timestamp, playerID varchar(50), sessionID varchar(50))',)]\n"
     ]
    }
   ],
   "source": [
    "db = sql.connect('data/Datastore.sql')\n",
    "query = \"SELECT sql FROM sqlite_master WHERE name = 'sessions';\"\n",
    "cursor = db.execute(query)\n",
    "rows = cursor.fetchall()\n",
    "print(rows)"
   ]
  },
  {
   "cell_type": "code",
   "execution_count": 18,
   "metadata": {},
   "outputs": [
    {
     "name": "stdout",
     "output_type": "stream",
     "text": [
      "[('2019-05-29 14:11:40.553495', '5/29/2019 2:11:40 PM', '38416e239391e09fcc9e414fcdd37c9a', '-'), ('2019-05-29 14:13:44.009808', '5/29/2019 2:13:43 PM', '1b00892fd9c01c8003b3784c657cd10c', '2770d867f1168dbf3f4c6eaa0f746242')]\n"
     ]
    }
   ],
   "source": [
    "query = \"SELECT * FROM sessions\"\n",
    "cursor = db.execute(query)\n",
    "rows = cursor.fetchall()\n",
    "print(rows)"
   ]
  },
  {
   "cell_type": "code",
   "execution_count": 19,
   "metadata": {},
   "outputs": [
    {
     "name": "stdout",
     "output_type": "stream",
     "text": [
      "[('2019-05-29 14:11:42.492945', '-', '38416e239391e09fcc9e414fcdd37c9a', 'Collision', 'WestCollider', '{}'), ('2019-05-29 14:11:48.850459', '-', '38416e239391e09fcc9e414fcdd37c9a', 'Collision', 'SouthCollider', '{}'), ('2019-05-29 14:11:53.063122', '-', '38416e239391e09fcc9e414fcdd37c9a', 'Collision', 'EastCollider', '{}'), ('2019-05-29 14:13:45.948057', '2770d867f1168dbf3f4c6eaa0f746242', '1b00892fd9c01c8003b3784c657cd10c', 'Collision', 'WestCollider', '{}'), ('2019-05-29 14:13:51.367722', '2770d867f1168dbf3f4c6eaa0f746242', '1b00892fd9c01c8003b3784c657cd10c', 'Collision', 'SouthCollider', '{}'), ('2019-05-29 14:13:54.920593', '2770d867f1168dbf3f4c6eaa0f746242', '1b00892fd9c01c8003b3784c657cd10c', 'Collision', 'EastCollider', '{}')]\n"
     ]
    }
   ],
   "source": [
    "query = \"SELECT * FROM counters\"\n",
    "cursor = db.execute(query)\n",
    "rows = cursor.fetchall()\n",
    "print(rows)"
   ]
  },
  {
   "cell_type": "code",
   "execution_count": 31,
   "metadata": {},
   "outputs": [
    {
     "data": {
      "text/html": [
       "<div>\n",
       "<style scoped>\n",
       "    .dataframe tbody tr th:only-of-type {\n",
       "        vertical-align: middle;\n",
       "    }\n",
       "\n",
       "    .dataframe tbody tr th {\n",
       "        vertical-align: top;\n",
       "    }\n",
       "\n",
       "    .dataframe thead th {\n",
       "        text-align: right;\n",
       "    }\n",
       "</style>\n",
       "<table border=\"1\" class=\"dataframe\">\n",
       "  <thead>\n",
       "    <tr style=\"text-align: right;\">\n",
       "      <th></th>\n",
       "      <th>statTime</th>\n",
       "      <th>playerID</th>\n",
       "      <th>sessionID</th>\n",
       "      <th>counterName</th>\n",
       "      <th>primaryParameter</th>\n",
       "    </tr>\n",
       "  </thead>\n",
       "  <tbody>\n",
       "    <tr>\n",
       "      <th>0</th>\n",
       "      <td>2019-05-29 15:04:10.533467</td>\n",
       "      <td>1b00892fd9c01c8003b3784c657cd10c</td>\n",
       "      <td>dcc0faba848842c5253ffa1a648f2a6d</td>\n",
       "      <td>Collision</td>\n",
       "      <td>WestCollider</td>\n",
       "    </tr>\n",
       "    <tr>\n",
       "      <th>1</th>\n",
       "      <td>2019-05-29 15:04:30.973808</td>\n",
       "      <td>1b00892fd9c01c8003b3784c657cd10c</td>\n",
       "      <td>dcc0faba848842c5253ffa1a648f2a6d</td>\n",
       "      <td>Collision</td>\n",
       "      <td>WestCollider</td>\n",
       "    </tr>\n",
       "    <tr>\n",
       "      <th>2</th>\n",
       "      <td>2019-05-29 15:04:31.990943</td>\n",
       "      <td>1b00892fd9c01c8003b3784c657cd10c</td>\n",
       "      <td>dcc0faba848842c5253ffa1a648f2a6d</td>\n",
       "      <td>Collision</td>\n",
       "      <td>SouthCollider</td>\n",
       "    </tr>\n",
       "  </tbody>\n",
       "</table>\n",
       "</div>"
      ],
      "text/plain": [
       "                     statTime                          playerID  \\\n",
       "0  2019-05-29 15:04:10.533467  1b00892fd9c01c8003b3784c657cd10c   \n",
       "1  2019-05-29 15:04:30.973808  1b00892fd9c01c8003b3784c657cd10c   \n",
       "2  2019-05-29 15:04:31.990943  1b00892fd9c01c8003b3784c657cd10c   \n",
       "\n",
       "                          sessionID counterName primaryParameter  \n",
       "0  dcc0faba848842c5253ffa1a648f2a6d   Collision     WestCollider  \n",
       "1  dcc0faba848842c5253ffa1a648f2a6d   Collision     WestCollider  \n",
       "2  dcc0faba848842c5253ffa1a648f2a6d   Collision    SouthCollider  "
      ]
     },
     "execution_count": 31,
     "metadata": {},
     "output_type": "execute_result"
    }
   ],
   "source": [
    "query = \"SELECT statTime, PlayerID, SessionID, CounterName, PrimaryParameter FROM counters WHERE SessionID = 'dcc0faba848842c5253ffa1a648f2a6d' ORDER BY statTime ASC\"\n",
    "df = pd.read_sql_query(query, db)\n",
    "df"
   ]
  },
  {
   "cell_type": "code",
   "execution_count": null,
   "metadata": {},
   "outputs": [],
   "source": []
  }
 ],
 "metadata": {
  "kernelspec": {
   "display_name": "Python 3",
   "language": "python",
   "name": "python3"
  },
  "language_info": {
   "codemirror_mode": {
    "name": "ipython",
    "version": 3
   },
   "file_extension": ".py",
   "mimetype": "text/x-python",
   "name": "python",
   "nbconvert_exporter": "python",
   "pygments_lexer": "ipython3",
   "version": "3.7.3"
  }
 },
 "nbformat": 4,
 "nbformat_minor": 2
}
